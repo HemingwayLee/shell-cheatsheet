{
 "cells": [
  {
   "cell_type": "markdown",
   "metadata": {},
   "source": [
    "# List comprehension\n",
    "##  if statement"
   ]
  },
  {
   "cell_type": "code",
   "execution_count": 2,
   "metadata": {},
   "outputs": [
    {
     "name": "stdout",
     "output_type": "stream",
     "text": [
      "[2, 4, 6]\n"
     ]
    }
   ],
   "source": [
    "my_list = [1,2,3,4,5,6]\n",
    "new_list = [x for x in my_list if x % 2 == 0 ]\n",
    "print(new_list)"
   ]
  },
  {
   "cell_type": "markdown",
   "metadata": {},
   "source": [
    "#  if-else statement"
   ]
  },
  {
   "cell_type": "code",
   "execution_count": 3,
   "metadata": {},
   "outputs": [
    {
     "name": "stdout",
     "output_type": "stream",
     "text": [
      "['odd', 'even', 'odd', 'even', 'odd', 'even']\n"
     ]
    }
   ],
   "source": [
    "new_list = [\"even\" if x % 2 == 0 else \"odd\" for x in my_list]\n",
    "print(new_list)"
   ]
  },
  {
   "cell_type": "markdown",
   "metadata": {},
   "source": [
    "## List of Dict"
   ]
  },
  {
   "cell_type": "code",
   "execution_count": 5,
   "metadata": {},
   "outputs": [
    {
     "name": "stdout",
     "output_type": "stream",
     "text": [
      "['Lee']\n"
     ]
    }
   ],
   "source": [
    "dict_list = [\n",
    "    {\"name\":\"Lee\", \"age\":35, \"office\":\"JP\"}, \n",
    "    {\"name\":\"James\", \"age\":27, \"office\":\"TW\"}, \n",
    "    {\"name\":\"Kenny\", \"age\":28, \"office\":\"TW\"}\n",
    "]\n",
    "\n",
    "new_dl = [ele[\"name\"] for ele in dict_list if ele[\"age\"] > 30]\n",
    "print(new_dl)"
   ]
  },
  {
   "cell_type": "code",
   "execution_count": 18,
   "metadata": {},
   "outputs": [
    {
     "name": "stdout",
     "output_type": "stream",
     "text": [
      "[('A', [dict_items([('name', 'A'), ('coffee', 6)]), dict_items([('name', 'A'), ('coffee', 3)])]), ('B', [dict_items([('name', 'B'), ('coffee', 1)]), dict_items([('name', 'B'), ('coffee', 4)])])]\n"
     ]
    }
   ],
   "source": [
    "from itertools import groupby\n",
    "from operator import itemgetter\n",
    "\n",
    "data = [\n",
    "    {'name': 'A', 'coffee':6},\n",
    "    {'name': 'A', 'coffee':3},\n",
    "    {'name': 'B', 'coffee':1},\n",
    "    {'name': 'B', 'coffee':4},\n",
    "]\n",
    "\n",
    "final_data = [(a, list(b)) for a, b in groupby([i.items() for i in data], key=lambda x:dict(x)[\"name\"])] \n",
    "print(final_data)\n",
    "\n"
   ]
  },
  {
   "cell_type": "code",
   "execution_count": 20,
   "metadata": {},
   "outputs": [
    {
     "name": "stdout",
     "output_type": "stream",
     "text": [
      "[{'name': 'A', 'coffee': 9}, {'name': 'B', 'coffee': 5}]\n"
     ]
    }
   ],
   "source": [
    "new_final_data = [{i[0][0]:sum(c[-1] for c in i) if i[0][0] != \"name\" else i[0][-1] for i in zip(*b)} for a, b in final_data]\n",
    "print(new_final_data)"
   ]
  },
  {
   "cell_type": "code",
   "execution_count": null,
   "metadata": {},
   "outputs": [],
   "source": []
  }
 ],
 "metadata": {
  "kernelspec": {
   "display_name": "Python 3",
   "language": "python",
   "name": "python3"
  },
  "language_info": {
   "codemirror_mode": {
    "name": "ipython",
    "version": 3
   },
   "file_extension": ".py",
   "mimetype": "text/x-python",
   "name": "python",
   "nbconvert_exporter": "python",
   "pygments_lexer": "ipython3",
   "version": "3.7.4"
  }
 },
 "nbformat": 4,
 "nbformat_minor": 2
}
