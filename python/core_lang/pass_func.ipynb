{
 "cells": [
  {
   "cell_type": "code",
   "execution_count": 1,
   "metadata": {},
   "outputs": [
    {
     "name": "stdout",
     "output_type": "stream",
     "text": [
      "Hello, Foo\n",
      "Hello, Bar\n"
     ]
    }
   ],
   "source": [
    "def foo():\n",
    "    return \"Foo\"\n",
    "\n",
    "def bar():\n",
    "    return \"Bar\"\n",
    "\n",
    "\n",
    "def hello(func):\n",
    "    return \"Hello, \" + func()\n",
    "\n",
    "print(hello(foo))\n",
    "print(hello(bar))"
   ]
  }
 ],
 "metadata": {
  "kernelspec": {
   "display_name": "Python 3",
   "language": "python",
   "name": "python3"
  },
  "language_info": {
   "codemirror_mode": {
    "name": "ipython",
    "version": 3
   },
   "file_extension": ".py",
   "mimetype": "text/x-python",
   "name": "python",
   "nbconvert_exporter": "python",
   "pygments_lexer": "ipython3",
   "version": "3.7.4"
  }
 },
 "nbformat": 4,
 "nbformat_minor": 2
}
