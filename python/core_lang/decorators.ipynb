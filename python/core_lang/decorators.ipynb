{
 "cells": [
  {
   "cell_type": "markdown",
   "metadata": {},
   "source": [
    "* It allows you to add more information about the method or class\n",
    "* It is equivalent to `bar = foo(bar)`"
   ]
  },
  {
   "cell_type": "code",
   "execution_count": 7,
   "metadata": {},
   "outputs": [
    {
     "name": "stdout",
     "output_type": "stream",
     "text": [
      "This is foo\n",
      "This is bar\n"
     ]
    }
   ],
   "source": [
    "def foo(b):\n",
    "    print(\"This is foo\")\n",
    "    return b\n",
    "\n",
    "@foo\n",
    "def bar():\n",
    "    print(\"This is bar\")\n",
    "    \n",
    "bar()"
   ]
  },
  {
   "cell_type": "markdown",
   "metadata": {},
   "source": [
    "# It allows you to do"
   ]
  },
  {
   "cell_type": "code",
   "execution_count": null,
   "metadata": {},
   "outputs": [],
   "source": [
    "def accepts(*types):\n",
    "    def check_accepts(f):\n",
    "        assert len(types) == f.__code__.co_argcount\n",
    "        def new_f(*args, **kwds):\n",
    "            for (a, t) in zip(args, types):\n",
    "                assert isinstance(a, t), \\\n",
    "                       \"arg %r does not match %s\" % (a,t)\n",
    "            return f(*args, **kwds)\n",
    "        new_f.__name__ = f.__name__\n",
    "        return new_f\n",
    "    return check_accepts\n",
    "\n",
    "@accepts(int,int)\n",
    "def bar(low,high):\n",
    "    return 1.1 * low + 2.2 * high\n",
    "\n",
    "print(bar(1, 2))"
   ]
  }
 ],
 "metadata": {
  "kernelspec": {
   "display_name": "Python 3",
   "language": "python",
   "name": "python3"
  },
  "language_info": {
   "codemirror_mode": {
    "name": "ipython",
    "version": 3
   },
   "file_extension": ".py",
   "mimetype": "text/x-python",
   "name": "python",
   "nbconvert_exporter": "python",
   "pygments_lexer": "ipython3",
   "version": "3.8.5"
  }
 },
 "nbformat": 4,
 "nbformat_minor": 4
}
