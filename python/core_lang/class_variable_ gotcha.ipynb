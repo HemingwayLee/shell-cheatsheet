{
 "cells": [
  {
   "cell_type": "markdown",
   "metadata": {},
   "source": [
    "# Constructor and Instance example\n",
    "* change `kls1` does not affect `kls2`"
   ]
  },
  {
   "cell_type": "code",
   "execution_count": 7,
   "metadata": {},
   "outputs": [
    {
     "name": "stdout",
     "output_type": "stream",
     "text": [
      "3\n",
      "2\n",
      "4\n",
      "5\n"
     ]
    }
   ],
   "source": [
    "class MyKls():\n",
    "    def __init__(self, r, i):\n",
    "        self._r = r\n",
    "        self._i = i\n",
    "    \n",
    "    def changeR(self, value):\n",
    "        self._r = value\n",
    "        \n",
    "kls1 = MyKls(3, 2)\n",
    "print(kls1._r)\n",
    "print(kls1._i)\n",
    "\n",
    "kls2 = MyKls(4, 5)\n",
    "kls1.changeR(7)\n",
    "print(kls2._r)\n",
    "print(kls2._i)"
   ]
  },
  {
   "cell_type": "markdown",
   "metadata": {},
   "source": [
    "## Can not access by MyKls"
   ]
  },
  {
   "cell_type": "code",
   "execution_count": 8,
   "metadata": {},
   "outputs": [
    {
     "ename": "AttributeError",
     "evalue": "type object 'MyKls' has no attribute '_r'",
     "output_type": "error",
     "traceback": [
      "\u001b[0;31m---------------------------------------------------------------------------\u001b[0m",
      "\u001b[0;31mAttributeError\u001b[0m                            Traceback (most recent call last)",
      "\u001b[0;32m<ipython-input-8-8e9577d607ed>\u001b[0m in \u001b[0;36m<module>\u001b[0;34m\u001b[0m\n\u001b[0;32m----> 1\u001b[0;31m \u001b[0mprint\u001b[0m\u001b[0;34m(\u001b[0m\u001b[0mMyKls\u001b[0m\u001b[0;34m.\u001b[0m\u001b[0m_r\u001b[0m\u001b[0;34m)\u001b[0m\u001b[0;34m\u001b[0m\u001b[0;34m\u001b[0m\u001b[0m\n\u001b[0m\u001b[1;32m      2\u001b[0m \u001b[0mprint\u001b[0m\u001b[0;34m(\u001b[0m\u001b[0mMyKls\u001b[0m\u001b[0;34m.\u001b[0m\u001b[0m_i\u001b[0m\u001b[0;34m)\u001b[0m\u001b[0;34m\u001b[0m\u001b[0;34m\u001b[0m\u001b[0m\n",
      "\u001b[0;31mAttributeError\u001b[0m: type object 'MyKls' has no attribute '_r'"
     ]
    }
   ],
   "source": [
    "print(MyKls._r)\n",
    "print(MyKls._i)"
   ]
  },
  {
   "cell_type": "markdown",
   "metadata": {},
   "source": [
    "## class variable shared by all instances\n",
    "* It looks like a static variable in C++, but it is NOT"
   ]
  },
  {
   "cell_type": "code",
   "execution_count": 2,
   "metadata": {},
   "outputs": [
    {
     "name": "stdout",
     "output_type": "stream",
     "text": [
      "1\n",
      "2\n"
     ]
    }
   ],
   "source": [
    "class MyExample():\n",
    "    _arr = []\n",
    "    _r = 1\n",
    "    _i = 2\n",
    "\n",
    "print(MyExample._r)\n",
    "print(MyExample._i)"
   ]
  },
  {
   "cell_type": "code",
   "execution_count": 3,
   "metadata": {},
   "outputs": [
    {
     "name": "stdout",
     "output_type": "stream",
     "text": [
      "1\n",
      "2\n"
     ]
    }
   ],
   "source": [
    "ex1 = MyExample()\n",
    "print(ex1._r)\n",
    "print(ex1._i)"
   ]
  },
  {
   "cell_type": "code",
   "execution_count": 4,
   "metadata": {},
   "outputs": [
    {
     "name": "stdout",
     "output_type": "stream",
     "text": [
      "1\n",
      "2\n"
     ]
    }
   ],
   "source": [
    "ex2 = MyExample()\n",
    "print(ex2._r)\n",
    "print(ex2._i)"
   ]
  },
  {
   "cell_type": "markdown",
   "metadata": {},
   "source": [
    "## `ex1`, `ex2`, and `MyExample` has their own `_r`"
   ]
  },
  {
   "cell_type": "code",
   "execution_count": 5,
   "metadata": {},
   "outputs": [
    {
     "name": "stdout",
     "output_type": "stream",
     "text": [
      "7788\n",
      "1\n",
      "5566\n"
     ]
    }
   ],
   "source": [
    "ex1._r = 7788\n",
    "ex2._r = 5566\n",
    "print(ex1._r)\n",
    "print(MyExample._r)\n",
    "print(ex2._r)"
   ]
  },
  {
   "cell_type": "markdown",
   "metadata": {},
   "source": [
    "## `ex1`, `ex2`, and `MyExample` share the same `_arr`"
   ]
  },
  {
   "cell_type": "code",
   "execution_count": 6,
   "metadata": {},
   "outputs": [
    {
     "name": "stdout",
     "output_type": "stream",
     "text": [
      "['dog']\n",
      "['dog']\n",
      "['dog']\n"
     ]
    }
   ],
   "source": [
    "ex1._arr.append(\"dog\")\n",
    "print(ex1._arr)\n",
    "print(MyExample._arr)\n",
    "print(ex2._arr)"
   ]
  }
 ],
 "metadata": {
  "kernelspec": {
   "display_name": "Python 3",
   "language": "python",
   "name": "python3"
  },
  "language_info": {
   "codemirror_mode": {
    "name": "ipython",
    "version": 3
   },
   "file_extension": ".py",
   "mimetype": "text/x-python",
   "name": "python",
   "nbconvert_exporter": "python",
   "pygments_lexer": "ipython3",
   "version": "3.8.5"
  }
 },
 "nbformat": 4,
 "nbformat_minor": 4
}
