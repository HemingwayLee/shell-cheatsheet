{
 "cells": [
  {
   "cell_type": "markdown",
   "metadata": {},
   "source": [
    "# Deque understanding\n",
    "## Test with int"
   ]
  },
  {
   "cell_type": "code",
   "execution_count": 3,
   "metadata": {},
   "outputs": [
    {
     "name": "stdout",
     "output_type": "stream",
     "text": [
      "deque([1, 2, 3], maxlen=3)\n",
      "deque([2, 3, 4], maxlen=3)\n"
     ]
    }
   ],
   "source": [
    "from collections import deque\n",
    "\n",
    "q1 = deque(maxlen=3)\n",
    "q1.append(1)\n",
    "q1.append(2)\n",
    "q1.append(3)\n",
    "print(q1)\n",
    "\n",
    "q1.append(4)\n",
    "print(q1)"
   ]
  },
  {
   "cell_type": "markdown",
   "metadata": {},
   "source": [
    "## Test with `tuple`"
   ]
  },
  {
   "cell_type": "code",
   "execution_count": 4,
   "metadata": {},
   "outputs": [
    {
     "name": "stdout",
     "output_type": "stream",
     "text": [
      "deque([('x', 1), ('y', 2), ('z', 3)], maxlen=3)\n",
      "deque([('y', 2), ('z', 3), ('w', 4)], maxlen=3)\n"
     ]
    }
   ],
   "source": [
    "q2 = deque(maxlen=3)\n",
    "q2.append(('x', 1))\n",
    "q2.append(('y', 2))\n",
    "q2.append(('z', 3))\n",
    "print(q2)\n",
    "\n",
    "q2.append(('w', 4))\n",
    "print(q2)"
   ]
  }
 ],
 "metadata": {
  "kernelspec": {
   "display_name": "Python 3",
   "language": "python",
   "name": "python3"
  },
  "language_info": {
   "codemirror_mode": {
    "name": "ipython",
    "version": 3
   },
   "file_extension": ".py",
   "mimetype": "text/x-python",
   "name": "python",
   "nbconvert_exporter": "python",
   "pygments_lexer": "ipython3",
   "version": "3.7.4"
  }
 },
 "nbformat": 4,
 "nbformat_minor": 2
}
